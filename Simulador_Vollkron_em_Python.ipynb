{
  "cells": [
    {
      "cell_type": "markdown",
      "metadata": {
        "id": "view-in-github",
        "colab_type": "text"
      },
      "source": [
        "<a href=\"https://colab.research.google.com/github/Mariana0123/ComputationalSimulation/blob/main/Simulador_Vollkron_em_Python.ipynb\" target=\"_parent\"><img src=\"https://colab.research.google.com/assets/colab-badge.svg\" alt=\"Open In Colab\"/></a>"
      ]
    },
    {
      "cell_type": "markdown",
      "metadata": {
        "id": "1qW-KTl53upR"
      },
      "source": [
        "**Controlador - Vollkron**\n",
        "\n",
        "Parte 1 - Atribuição de valores para variáveis preestabelecidas\n"
      ]
    },
    {
      "cell_type": "code",
      "execution_count": null,
      "metadata": {
        "id": "IjWnN6vI4BfO"
      },
      "outputs": [],
      "source": [
        "picomaximofcard = -1000\n",
        "estadoderesistencia = 0\n",
        "contadordepicofcard = 0\n",
        "picomaximoflu = 0\n",
        "picominimoflu = 0\n",
        "constantederotacao = 0\n",
        "xfluxodevelocidadedabomba = 0\n",
        "fluxoreal = []\n",
        "kp1 = 400\n",
        "kp2 = 83.3\n",
        "kp3 = 600\n",
        "kp4 = 800"
      ]
    },
    {
      "cell_type": "markdown",
      "metadata": {
        "id": "T-lLuEU252gH"
      },
      "source": [
        "Parte 2 - Solicitação de valores de entrada"
      ]
    },
    {
      "cell_type": "code",
      "execution_count": null,
      "metadata": {
        "colab": {
          "base_uri": "https://localhost:8080/"
        },
        "id": "JuXatRaw6Fxd",
        "outputId": "b389ec7c-a403-49fc-d411-d8a269b22583"
      },
      "outputs": [
        {
          "name": "stdout",
          "output_type": "stream",
          "text": [
            "Médico, entre com a frequência cardíaca durante o repouso:\n",
            "(exemplo: 30)\n",
            "30\n",
            "\n",
            "Entre com a frequência cardíaca durante o exercício: \n",
            "(exemplo: 120)\n",
            "120\n",
            "\n",
            "Entre com o fluxo em exercício: \n",
            "(exemplo: 10)\n",
            "10\n",
            "\n",
            "Entre com o valor de fluxo em repouso: \n",
            "(exemplo: 3)\n",
            "3\n",
            "\n",
            "Entre com o estado de fluxo da bomba: \n",
            "(exemplo: 4)\n",
            "4\n",
            "\n",
            "Entre com o estado cardíaco do paciente: \n",
            "(exemplo: 60)\n",
            "60\n",
            "\n",
            "Entre com a potência máxima desejada da bomba: \n",
            "(exemplo: 48)\n",
            "48\n",
            "\n",
            "Entre com o fluxo P2P desejado da bomba: \n",
            "(exemplo: 2)\n",
            "2\n"
          ]
        }
      ],
      "source": [
        "freqcardrepouso = float(input(\"Médico, entre com a frequência cardíaca durante o repouso:\\n(exemplo: 30)\\n\"))\n",
        "freqcardexercicio = float(input(\"\\nEntre com a frequência cardíaca durante o exercício: \\n(exemplo: 120)\\n\"))\n",
        "fluxocoracaoexercicio = float(input(\"\\nEntre com o fluxo em exercício: \\n(exemplo: 10)\\n\"))\n",
        "fluxocoracaoemrepouso = float(input(\"\\nEntre com o valor de fluxo em repouso: \\n(exemplo: 3)\\n\"))\n",
        "estadodefluxodabomba = float(input(\"\\nEntre com o estado de fluxo da bomba: \\n(exemplo: 4)\\n\"))\n",
        "rotacaoreal = (4000 * estadodefluxodabomba)/10\n",
        "estadocardiacodopaciente = float(input(\"\\nEntre com o estado cardíaco do paciente: \\n(exemplo: 60)\\n\"))\n",
        "freqseg = estadocardiacodopaciente/60\n",
        "Potmaxdesejada = float(input(\"\\nEntre com a potência máxima desejada da bomba: \\n(exemplo: 48)\\n\"))\n",
        "P2Pdesejado = float(input(\"\\nEntre com o fluxo P2P desejado da bomba: \\n(exemplo: 2)\\n\"))\n"
      ]
    },
    {
      "cell_type": "markdown",
      "metadata": {
        "id": "XFCuWG-W9oKe"
      },
      "source": [
        "Parte 3 - Simulação de um coração saudável e de um com IC"
      ]
    },
    {
      "cell_type": "code",
      "execution_count": null,
      "metadata": {
        "id": "XLKKDE24-e8Q"
      },
      "outputs": [],
      "source": [
        "import math\n",
        "\n",
        "tempodeamostragem = []\n",
        "pressaosimuladaIC = []\n",
        "fluxosimuladoIC = []\n",
        "pressaosimulada = []\n",
        "fluxosimulado = []\n",
        "\n",
        "for i in range(100):\n",
        "  tempodeamostragem = [i * 0.0628]\n",
        "  for t in tempodeamostragem:\n",
        "      pressaosimuladaIC.insert(i,(30 * math.sin(6.28 * freqseg * t) + 110))\n",
        "      fluxosimuladoIC.insert(i,(1.1 * math.sin(6.28 * freqseg * t) + 1.1))\n",
        "      if estadocardiacodopaciente < 60:\n",
        "        pressaosimulada.insert(i, (20 * math.sin(6.28 * freqseg * t) + 100))\n",
        "        fluxosimulado.insert(i,(1 * math.sin(6.28 * freqseg * t) + 4.5))\n",
        "        estadoderesistencia = 125\n",
        "      elif (estadocardiacodopaciente >= 60 and estadocardiacodopaciente < 100):\n",
        "        pressaosimulada.insert(i, (22.5 * math.sin(6.28 * freqseg * t) + 107.5))\n",
        "        fluxosimulado.insert(i,(1 * math.sin(6.28 * freqseg * t) + 6.1))\n",
        "        estadoderesistencia = 250\n",
        "      else:\n",
        "        pressaosimulada.insert(i,(1 * math.sin(6.28 * freqseg * t) + 140))\n",
        "        fluxosimulado.insert(i,(4 * math.sin(6.28 * freqseg * t) + 11.1))\n",
        "        estadoderesistencia = 500;"
      ]
    },
    {
      "cell_type": "markdown",
      "metadata": {
        "id": "wWCWsOEmKYGn"
      },
      "source": [
        "Parte 4 - Estimadador de frequência cardíaca"
      ]
    },
    {
      "cell_type": "code",
      "execution_count": null,
      "metadata": {
        "colab": {
          "base_uri": "https://localhost:8080/"
        },
        "id": "cEdN73rvKpFw",
        "outputId": "230137a6-b5fa-44e4-907f-6b76bc17da8c"
      },
      "outputs": [
        {
          "output_type": "stream",
          "name": "stdout",
          "text": [
            "A frequência cardíaca estimada é de: 60\n"
          ]
        }
      ],
      "source": [
        "  for i in range(0, 32):\n",
        "     if pressaosimulada[i] > pressaosimulada[i-1]:\n",
        "        picomaximofcard = pressaosimulada[i]\n",
        "     elif (picomaximofcard != -1000):\n",
        "        contadordepicofcard += 1\n",
        "        picomaximofcard = -1000\n",
        "\n",
        "  frequencia_cardiaca_estimada = contadordepicofcard * 30\n",
        "  print(\"A frequência cardíaca estimada é de: {:d}\".format(frequencia_cardiaca_estimada))\n",
        "  contadordepicofcard = 0"
      ]
    },
    {
      "cell_type": "markdown",
      "metadata": {
        "id": "LW3rEmNIZNjh"
      },
      "source": [
        "Parte 5 - Estimador de fluxo P2P real\n"
      ]
    },
    {
      "cell_type": "code",
      "execution_count": null,
      "metadata": {
        "colab": {
          "base_uri": "https://localhost:8080/"
        },
        "id": "YxgEmJeTZWms",
        "outputId": "3d1b8a79-cc67-4e7a-baad-aaf73c3df2c9"
      },
      "outputs": [
        {
          "output_type": "stream",
          "name": "stdout",
          "text": [
            "\n",
            "O pico mínimo é: 5.0334\n",
            "\n",
            "O pico máximo é: 5.0999\n",
            "\n",
            "O P2Preal é: 0.0665\n"
          ]
        }
      ],
      "source": [
        "  for i in range(0, 32):\n",
        "      fluxoreal.insert(i, (fluxosimulado[i] - fluxosimuladoIC[i]))\n",
        "      l = i-1\n",
        "      if(fluxoreal[i] > fluxoreal[l]):\n",
        "        picomaximoflu = fluxoreal[i]\n",
        "      else:\n",
        "        picominimoflu = fluxoreal[i]\n",
        "\n",
        "P2Preal = picomaximoflu - picominimoflu\n",
        "\n",
        "print(\"\\nO pico mínimo é: {:.4f}\".format(picominimoflu))\n",
        "print(\"\\nO pico máximo é: {:.4f}\".format(picomaximoflu))\n",
        "print(\"\\nO P2Preal é: {:.4f}\".format(P2Preal))\n"
      ]
    },
    {
      "cell_type": "markdown",
      "metadata": {
        "id": "kxUnAXwddz6q"
      },
      "source": [
        "Parte 6 - Estimador de fluxo desejado:"
      ]
    },
    {
      "cell_type": "code",
      "execution_count": null,
      "metadata": {
        "colab": {
          "base_uri": "https://localhost:8080/"
        },
        "id": "f-rAKVLrd4Vx",
        "outputId": "3c6da9ea-5d49-48af-e267-6e22ac1930b2"
      },
      "outputs": [
        {
          "output_type": "stream",
          "name": "stdout",
          "text": [
            "\n",
            "INFORMAÇÕES: \n",
            "Valor de fluxo P2P: 2.000\n",
            "Potência máxima admissível: 48.000\n",
            "Fluxo mínimo: 3.000\n",
            "Fluxo desejado: 5.333 l/min\n",
            "\n"
          ]
        }
      ],
      "source": [
        "coeficientedareta = (fluxocoracaoexercicio - fluxocoracaoemrepouso) / (freqcardexercicio - freqcardrepouso)\n",
        "fluxodesejado = (coeficientedareta * (estadocardiacodopaciente - freqcardrepouso)) + fluxocoracaoemrepouso\n",
        "print(\"\\nINFORMAÇÕES: \\nValor de fluxo P2P: {:.3f}\\nPotência máxima admissível: {:.3f}\\nFluxo mínimo: {:.3f}\\nFluxo desejado: {:.3f} l/min\\n\".format(P2Pdesejado, Potmaxdesejada, fluxocoracaoemrepouso, fluxodesejado))"
      ]
    },
    {
      "cell_type": "markdown",
      "metadata": {
        "id": "oQAQ6_skeYSI"
      },
      "source": [
        "Parte 7 - Simular o controlador"
      ]
    },
    {
      "cell_type": "code",
      "execution_count": null,
      "metadata": {
        "id": "yHbK3Xefeceq",
        "colab": {
          "base_uri": "https://localhost:8080/"
        },
        "outputId": "4c76165f-dcf4-4158-b4c7-26630d2dc8ff"
      },
      "outputs": [
        {
          "output_type": "stream",
          "name": "stdout",
          "text": [
            "\n",
            "INFORMAÇÕES\n",
            "\n",
            "Em 0.0000 seg: Xfluxo(t) = 133.33, Xpot(t) = 2249.10, XP2P(t) = -1081.32\n",
            "Em 0.0628 seg: Xfluxo(t) = 148.70, Xpot(t) = 2264.46, XP2P(t) = -1081.32\n",
            "Em 0.1256 seg: Xfluxo(t) = 161.71, Xpot(t) = 2277.47, XP2P(t) = -1081.32\n",
            "Em 0.1884 seg: Xfluxo(t) = 170.37, Xpot(t) = 2286.12, XP2P(t) = -1081.32\n",
            "Em 0.2512 seg: Xfluxo(t) = 173.33, Xpot(t) = 2289.08, XP2P(t) = -1081.32\n",
            "Em 0.3140 seg: Xfluxo(t) = 170.16, Xpot(t) = 2285.91, XP2P(t) = -1195.24\n",
            "Em 0.3768 seg: Xfluxo(t) = 161.33, Xpot(t) = 2277.09, XP2P(t) = -1182.00\n",
            "Em 0.4396 seg: Xfluxo(t) = 148.20, Xpot(t) = 2263.96, XP2P(t) = -1162.31\n",
            "Em 0.5024 seg: Xfluxo(t) = 132.79, Xpot(t) = 2248.56, XP2P(t) = -1139.19\n",
            "Em 0.5652 seg: Xfluxo(t) = 117.47, Xpot(t) = 2233.24, XP2P(t) = -1116.20\n",
            "Em 0.6280 seg: Xfluxo(t) = 104.58, Xpot(t) = 2220.35, XP2P(t) = -1096.87\n",
            "Em 0.6908 seg: Xfluxo(t) = 96.10, Xpot(t) = 2211.88, XP2P(t) = -1084.15\n",
            "Em 0.7536 seg: Xfluxo(t) = 93.34, Xpot(t) = 2209.12, XP2P(t) = -1080.01\n",
            "Em 0.8164 seg: Xfluxo(t) = 96.72, Xpot(t) = 2212.50, XP2P(t) = -1194.93\n",
            "Em 0.8792 seg: Xfluxo(t) = 105.72, Xpot(t) = 2221.50, XP2P(t) = -1181.43\n",
            "Em 0.9420 seg: Xfluxo(t) = 118.96, Xpot(t) = 2234.74, XP2P(t) = -1161.57\n",
            "Em 1.0048 seg: Xfluxo(t) = 134.41, Xpot(t) = 2250.18, XP2P(t) = -1138.39\n",
            "Em 1.0676 seg: Xfluxo(t) = 149.69, Xpot(t) = 2265.45, XP2P(t) = -1115.47\n",
            "Em 1.1304 seg: Xfluxo(t) = 162.46, Xpot(t) = 2278.22, XP2P(t) = -1096.32\n",
            "Em 1.1932 seg: Xfluxo(t) = 170.76, Xpot(t) = 2286.51, XP2P(t) = -1083.87\n",
            "Em 1.2560 seg: Xfluxo(t) = 173.31, Xpot(t) = 2289.06, XP2P(t) = -1080.05\n",
            "Em 1.3188 seg: Xfluxo(t) = 169.72, Xpot(t) = 2285.48, XP2P(t) = -1194.62\n",
            "Em 1.3816 seg: Xfluxo(t) = 160.55, Xpot(t) = 2276.31, XP2P(t) = -1180.86\n",
            "Em 1.4444 seg: Xfluxo(t) = 147.20, Xpot(t) = 2262.96, XP2P(t) = -1160.83\n",
            "Em 1.5072 seg: Xfluxo(t) = 131.72, Xpot(t) = 2247.48, XP2P(t) = -1137.61\n",
            "Em 1.5700 seg: Xfluxo(t) = 116.48, Xpot(t) = 2232.26, XP2P(t) = -1114.76\n",
            "Em 1.6328 seg: Xfluxo(t) = 103.84, Xpot(t) = 2219.62, XP2P(t) = -1095.79\n",
            "Em 1.6956 seg: Xfluxo(t) = 95.72, Xpot(t) = 2211.50, XP2P(t) = -1083.61\n",
            "Em 1.7584 seg: Xfluxo(t) = 93.38, Xpot(t) = 2209.16, XP2P(t) = -1080.10\n",
            "Em 1.8212 seg: Xfluxo(t) = 97.17, Xpot(t) = 2212.95, XP2P(t) = -1194.31\n",
            "Em 1.8840 seg: Xfluxo(t) = 106.51, Xpot(t) = 2222.29, XP2P(t) = -1180.30\n",
            "Em 1.9468 seg: Xfluxo(t) = 119.98, Xpot(t) = 2235.75, XP2P(t) = -1180.30\n",
            "Em 2.0096 seg: Xfluxo(t) = 135.49, Xpot(t) = 2251.25, XP2P(t) = -1180.30\n",
            "Em 2.0724 seg: Xfluxo(t) = 150.67, Xpot(t) = 2266.43, XP2P(t) = -1180.30\n",
            "Em 2.1352 seg: Xfluxo(t) = 163.19, Xpot(t) = 2278.95, XP2P(t) = -1180.30\n",
            "Em 2.1980 seg: Xfluxo(t) = 171.13, Xpot(t) = 2286.88, XP2P(t) = -1180.30\n",
            "Em 2.2608 seg: Xfluxo(t) = 173.26, Xpot(t) = 2289.01, XP2P(t) = -1180.30\n",
            "Em 2.3236 seg: Xfluxo(t) = 169.26, Xpot(t) = 2285.02, XP2P(t) = -1194.00\n",
            "Em 2.3864 seg: Xfluxo(t) = 159.75, Xpot(t) = 2275.51, XP2P(t) = -1179.74\n",
            "Em 2.4492 seg: Xfluxo(t) = 146.18, Xpot(t) = 2261.94, XP2P(t) = -1159.38\n",
            "Em 2.5120 seg: Xfluxo(t) = 130.64, Xpot(t) = 2246.41, XP2P(t) = -1136.07\n",
            "Em 2.5748 seg: Xfluxo(t) = 115.51, Xpot(t) = 2231.29, XP2P(t) = -1113.38\n",
            "Em 2.6376 seg: Xfluxo(t) = 103.12, Xpot(t) = 2218.90, XP2P(t) = -1094.79\n",
            "Em 2.7004 seg: Xfluxo(t) = 95.37, Xpot(t) = 2211.15, XP2P(t) = -1083.16\n",
            "Em 2.7632 seg: Xfluxo(t) = 93.44, Xpot(t) = 2209.23, XP2P(t) = -1080.28\n",
            "Em 2.8260 seg: Xfluxo(t) = 97.64, Xpot(t) = 2213.42, XP2P(t) = -1193.70\n",
            "Em 2.8888 seg: Xfluxo(t) = 107.32, Xpot(t) = 2223.10, XP2P(t) = -1179.18\n",
            "Em 2.9516 seg: Xfluxo(t) = 121.00, Xpot(t) = 2236.77, XP2P(t) = -1158.67\n",
            "Em 3.0144 seg: Xfluxo(t) = 136.56, Xpot(t) = 2252.33, XP2P(t) = -1135.32\n",
            "Em 3.0772 seg: Xfluxo(t) = 151.64, Xpot(t) = 2267.40, XP2P(t) = -1112.71\n",
            "Em 3.1400 seg: Xfluxo(t) = 163.90, Xpot(t) = 2279.65, XP2P(t) = -1094.32\n",
            "Em 3.2028 seg: Xfluxo(t) = 171.47, Xpot(t) = 2287.22, XP2P(t) = -1082.97\n",
            "Em 3.2656 seg: Xfluxo(t) = 173.18, Xpot(t) = 2288.93, XP2P(t) = -1080.39\n",
            "Em 3.3284 seg: Xfluxo(t) = 168.78, Xpot(t) = 2284.53, XP2P(t) = -1193.39\n",
            "Em 3.3912 seg: Xfluxo(t) = 158.93, Xpot(t) = 2274.69, XP2P(t) = -1178.63\n",
            "Em 3.4540 seg: Xfluxo(t) = 145.16, Xpot(t) = 2260.92, XP2P(t) = -1157.96\n",
            "Em 3.5168 seg: Xfluxo(t) = 129.56, Xpot(t) = 2245.33, XP2P(t) = -1134.58\n",
            "Em 3.5796 seg: Xfluxo(t) = 114.55, Xpot(t) = 2230.33, XP2P(t) = -1112.06\n",
            "Em 3.6424 seg: Xfluxo(t) = 102.42, Xpot(t) = 2218.20, XP2P(t) = -1093.87\n",
            "Em 3.7052 seg: Xfluxo(t) = 95.04, Xpot(t) = 2210.82, XP2P(t) = -1082.79\n",
            "Em 3.7680 seg: Xfluxo(t) = 93.54, Xpot(t) = 2209.32, XP2P(t) = -1080.54\n",
            "Em 3.8308 seg: Xfluxo(t) = 98.14, Xpot(t) = 2213.92, XP2P(t) = -1193.09\n",
            "Em 3.8936 seg: Xfluxo(t) = 108.15, Xpot(t) = 2223.93, XP2P(t) = -1193.09\n",
            "Em 3.9564 seg: Xfluxo(t) = 122.03, Xpot(t) = 2237.80, XP2P(t) = -1193.09\n",
            "Em 4.0192 seg: Xfluxo(t) = 137.64, Xpot(t) = 2253.40, XP2P(t) = -1193.09\n",
            "Em 4.0820 seg: Xfluxo(t) = 152.59, Xpot(t) = 2268.35, XP2P(t) = -1193.09\n",
            "Em 4.1448 seg: Xfluxo(t) = 164.58, Xpot(t) = 2280.34, XP2P(t) = -1193.09\n",
            "Em 4.2076 seg: Xfluxo(t) = 171.78, Xpot(t) = 2287.53, XP2P(t) = -1193.09\n",
            "Em 4.2704 seg: Xfluxo(t) = 173.07, Xpot(t) = 2288.82, XP2P(t) = -1193.09\n",
            "Em 4.3332 seg: Xfluxo(t) = 168.26, Xpot(t) = 2284.02, XP2P(t) = -1192.79\n",
            "Em 4.3960 seg: Xfluxo(t) = 158.09, Xpot(t) = 2273.85, XP2P(t) = -1177.53\n",
            "Em 4.4588 seg: Xfluxo(t) = 144.12, Xpot(t) = 2259.88, XP2P(t) = -1156.57\n",
            "Em 4.5216 seg: Xfluxo(t) = 128.49, Xpot(t) = 2244.26, XP2P(t) = -1133.13\n",
            "Em 4.5844 seg: Xfluxo(t) = 113.61, Xpot(t) = 2229.38, XP2P(t) = -1110.80\n",
            "Em 4.6472 seg: Xfluxo(t) = 101.75, Xpot(t) = 2217.53, XP2P(t) = -1093.02\n",
            "Em 4.7100 seg: Xfluxo(t) = 94.74, Xpot(t) = 2210.53, XP2P(t) = -1082.51\n",
            "Em 4.7728 seg: Xfluxo(t) = 93.66, Xpot(t) = 2209.44, XP2P(t) = -1080.88\n",
            "Em 4.8356 seg: Xfluxo(t) = 98.67, Xpot(t) = 2214.45, XP2P(t) = -1192.49\n",
            "Em 4.8984 seg: Xfluxo(t) = 109.00, Xpot(t) = 2224.78, XP2P(t) = -1176.99\n",
            "Em 4.9612 seg: Xfluxo(t) = 123.07, Xpot(t) = 2238.84, XP2P(t) = -1155.89\n",
            "Em 5.0240 seg: Xfluxo(t) = 138.71, Xpot(t) = 2254.47, XP2P(t) = -1132.43\n",
            "Em 5.0868 seg: Xfluxo(t) = 153.53, Xpot(t) = 2269.28, XP2P(t) = -1110.20\n",
            "Em 5.1496 seg: Xfluxo(t) = 165.24, Xpot(t) = 2281.00, XP2P(t) = -1092.63\n",
            "Em 5.2124 seg: Xfluxo(t) = 172.06, Xpot(t) = 2287.81, XP2P(t) = -1082.40\n",
            "Em 5.2752 seg: Xfluxo(t) = 172.93, Xpot(t) = 2288.68, XP2P(t) = -1081.09\n",
            "Em 5.3380 seg: Xfluxo(t) = 167.73, Xpot(t) = 2283.48, XP2P(t) = -1192.19\n",
            "Em 5.4008 seg: Xfluxo(t) = 157.24, Xpot(t) = 2272.99, XP2P(t) = -1176.46\n",
            "Em 5.4636 seg: Xfluxo(t) = 143.08, Xpot(t) = 2258.84, XP2P(t) = -1155.22\n",
            "Em 5.5264 seg: Xfluxo(t) = 127.42, Xpot(t) = 2243.19, XP2P(t) = -1131.74\n",
            "Em 5.5892 seg: Xfluxo(t) = 112.68, Xpot(t) = 2228.45, XP2P(t) = -1109.62\n",
            "Em 5.6520 seg: Xfluxo(t) = 101.10, Xpot(t) = 2216.88, XP2P(t) = -1092.25\n",
            "Em 5.7148 seg: Xfluxo(t) = 94.47, Xpot(t) = 2210.26, XP2P(t) = -1082.31\n",
            "Em 5.7776 seg: Xfluxo(t) = 93.81, Xpot(t) = 2209.60, XP2P(t) = -1081.32\n",
            "Em 5.8404 seg: Xfluxo(t) = 99.22, Xpot(t) = 2215.00, XP2P(t) = -1081.32\n",
            "Em 5.9032 seg: Xfluxo(t) = 109.86, Xpot(t) = 2225.64, XP2P(t) = -1081.32\n",
            "Em 5.9660 seg: Xfluxo(t) = 124.11, Xpot(t) = 2239.88, XP2P(t) = -1081.32\n",
            "Em 6.0288 seg: Xfluxo(t) = 139.78, Xpot(t) = 2255.54, XP2P(t) = -1081.32\n",
            "Em 6.0916 seg: Xfluxo(t) = 154.45, Xpot(t) = 2270.21, XP2P(t) = -1081.32\n",
            "Em 6.1544 seg: Xfluxo(t) = 165.88, Xpot(t) = 2281.64, XP2P(t) = -1081.32\n",
            "Em 6.2172 seg: Xfluxo(t) = 172.32, Xpot(t) = 2288.07, XP2P(t) = -1081.32\n",
            "O maior valor entre -1081.32 e 1600.00 é: 1600.00 com fluxo de 4.00\n",
            "O maior valor entre -1081.32 e 1569.26 é: 1569.26 com fluxo de 3.92\n",
            "O maior valor entre -1081.32 e 1543.24 é: 1543.24 com fluxo de 3.86\n",
            "O maior valor entre -1081.32 e 1525.94 é: 1525.94 com fluxo de 3.81\n",
            "O maior valor entre -1081.32 e 1520.00 é: 1520.00 com fluxo de 3.80\n",
            "O maior valor entre -1081.32 e 1526.35 é: 1526.35 com fluxo de 3.82\n",
            "O maior valor entre -1081.32 e 1544.01 é: 1544.01 com fluxo de 3.86\n",
            "O maior valor entre -1081.32 e 1570.26 é: 1570.26 com fluxo de 3.93\n",
            "O maior valor entre -1081.32 e 1601.08 é: 1601.08 com fluxo de 4.00\n",
            "O maior valor entre -1081.32 e 1631.73 é: 1631.73 com fluxo de 4.08\n",
            "O maior valor entre -1081.32 e 1657.51 é: 1657.51 com fluxo de 4.14\n",
            "O maior valor entre -1081.32 e 1674.47 é: 1674.47 com fluxo de 4.19\n",
            "O maior valor entre -1081.32 e 1679.98 é: 1679.98 com fluxo de 4.20\n",
            "O maior valor entre -1081.32 e 1673.22 é: 1673.22 com fluxo de 4.18\n",
            "O maior valor entre -1081.32 e 1655.22 é: 1655.22 com fluxo de 4.14\n",
            "O maior valor entre -1081.32 e 1628.74 é: 1628.74 com fluxo de 4.07\n",
            "O maior valor entre -1081.32 e 1597.84 é: 1597.84 com fluxo de 3.99\n",
            "O maior valor entre -1081.32 e 1567.28 é: 1567.28 com fluxo de 3.92\n",
            "O maior valor entre -1081.32 e 1541.74 é: 1541.74 com fluxo de 3.85\n",
            "O maior valor entre -1081.32 e 1525.15 é: 1525.15 com fluxo de 3.81\n",
            "O maior valor entre -1081.32 e 1520.05 é: 1520.05 com fluxo de 3.80\n",
            "O maior valor entre -1081.32 e 1527.22 é: 1527.22 com fluxo de 3.82\n",
            "O maior valor entre -1081.32 e 1545.57 é: 1545.57 com fluxo de 3.86\n",
            "O maior valor entre -1081.32 e 1572.27 é: 1572.27 com fluxo de 3.93\n",
            "O maior valor entre -1081.32 e 1603.23 é: 1603.23 com fluxo de 4.01\n",
            "O maior valor entre -1081.32 e 1633.70 é: 1633.70 com fluxo de 4.08\n",
            "O maior valor entre -1081.32 e 1658.99 é: 1658.99 com fluxo de 4.15\n",
            "O maior valor entre -1081.32 e 1675.23 é: 1675.23 com fluxo de 4.19\n",
            "O maior valor entre -1081.32 e 1679.91 é: 1679.91 com fluxo de 4.20\n",
            "O maior valor entre -1081.32 e 1672.33 é: 1672.33 com fluxo de 4.18\n",
            "O maior valor entre -1081.32 e 1653.64 é: 1653.64 com fluxo de 4.13\n",
            "O maior valor entre -1081.32 e 1626.71 é: 1626.71 com fluxo de 4.07\n",
            "O maior valor entre -1081.32 e 1595.69 é: 1595.69 com fluxo de 3.99\n",
            "O maior valor entre -1081.32 e 1565.33 é: 1565.33 com fluxo de 3.91\n",
            "O maior valor entre -1081.32 e 1540.29 é: 1540.29 com fluxo de 3.85\n",
            "O maior valor entre -1081.32 e 1524.41 é: 1524.41 com fluxo de 3.81\n",
            "O maior valor entre -1081.32 e 1520.15 é: 1520.15 com fluxo de 3.80\n",
            "O maior valor entre -1081.32 e 1528.14 é: 1528.14 com fluxo de 3.82\n",
            "O maior valor entre -1081.32 e 1547.17 é: 1547.17 com fluxo de 3.87\n",
            "O maior valor entre -1081.32 e 1574.30 é: 1574.30 com fluxo de 3.94\n",
            "O maior valor entre -1081.32 e 1605.39 é: 1605.39 com fluxo de 4.01\n",
            "O maior valor entre -1081.32 e 1635.64 é: 1635.64 com fluxo de 4.09\n",
            "O maior valor entre -1081.32 e 1660.43 é: 1660.43 com fluxo de 4.15\n",
            "O maior valor entre -1081.32 e 1675.93 é: 1675.93 com fluxo de 4.19\n",
            "O maior valor entre -1081.32 e 1679.78 é: 1679.78 com fluxo de 4.20\n",
            "O maior valor entre -1081.32 e 1671.38 é: 1671.38 com fluxo de 4.18\n",
            "O maior valor entre -1081.32 e 1652.02 é: 1652.02 com fluxo de 4.13\n",
            "O maior valor entre -1081.32 e 1624.67 é: 1624.67 com fluxo de 4.06\n",
            "O maior valor entre -1081.32 e 1593.54 é: 1593.54 com fluxo de 3.98\n",
            "O maior valor entre -1081.32 e 1563.39 é: 1563.39 com fluxo de 3.91\n",
            "O maior valor entre -1081.32 e 1538.87 é: 1538.87 com fluxo de 3.85\n",
            "O maior valor entre -1081.32 e 1523.73 é: 1523.73 com fluxo de 3.81\n",
            "O maior valor entre -1081.32 e 1520.31 é: 1520.31 com fluxo de 3.80\n",
            "O maior valor entre -1081.32 e 1529.11 é: 1529.11 com fluxo de 3.82\n",
            "O maior valor entre -1081.32 e 1548.81 é: 1548.81 com fluxo de 3.87\n",
            "O maior valor entre -1081.32 e 1576.36 é: 1576.36 com fluxo de 3.94\n",
            "O maior valor entre -1081.32 e 1607.54 é: 1607.54 com fluxo de 4.02\n",
            "O maior valor entre -1081.32 e 1637.56 é: 1637.56 com fluxo de 4.09\n",
            "O maior valor entre -1081.32 e 1661.82 é: 1661.82 com fluxo de 4.15\n",
            "O maior valor entre -1081.32 e 1676.58 é: 1676.58 com fluxo de 4.19\n",
            "O maior valor entre -1081.32 e 1679.59 é: 1679.59 com fluxo de 4.20\n",
            "O maior valor entre -1081.32 e 1670.38 é: 1670.38 com fluxo de 4.18\n",
            "O maior valor entre -1081.32 e 1650.36 é: 1650.36 com fluxo de 4.13\n",
            "O maior valor entre -1081.32 e 1622.61 é: 1622.61 com fluxo de 4.06\n",
            "O maior valor entre -1081.32 e 1591.39 é: 1591.39 com fluxo de 3.98\n",
            "O maior valor entre -1081.32 e 1561.49 é: 1561.49 com fluxo de 3.90\n",
            "O maior valor entre -1081.32 e 1537.50 é: 1537.50 com fluxo de 3.84\n",
            "O maior valor entre -1081.32 e 1523.11 é: 1523.11 com fluxo de 3.81\n",
            "O maior valor entre -1081.32 e 1520.52 é: 1520.52 com fluxo de 3.80\n",
            "O maior valor entre -1081.32 e 1530.14 é: 1530.14 com fluxo de 3.83\n",
            "O maior valor entre -1081.32 e 1550.48 é: 1550.48 com fluxo de 3.88\n",
            "O maior valor entre -1081.32 e 1578.42 é: 1578.42 com fluxo de 3.95\n",
            "O maior valor entre -1081.32 e 1609.68 é: 1609.68 com fluxo de 4.02\n",
            "O maior valor entre -1081.32 e 1639.45 é: 1639.45 com fluxo de 4.10\n",
            "O maior valor entre -1081.32 e 1663.16 é: 1663.16 com fluxo de 4.16\n",
            "O maior valor entre -1081.32 e 1677.18 é: 1677.18 com fluxo de 4.19\n",
            "O maior valor entre -1081.32 e 1679.34 é: 1679.34 com fluxo de 4.20\n",
            "O maior valor entre -1081.32 e 1669.33 é: 1669.33 com fluxo de 4.17\n",
            "O maior valor entre -1081.32 e 1648.67 é: 1648.67 com fluxo de 4.12\n",
            "O maior valor entre -1081.32 e 1620.53 é: 1620.53 com fluxo de 4.05\n",
            "O maior valor entre -1081.32 e 1589.25 é: 1589.25 com fluxo de 3.97\n",
            "O maior valor entre -1081.32 e 1559.61 é: 1559.61 com fluxo de 3.90\n",
            "O maior valor entre -1081.32 e 1536.18 é: 1536.18 com fluxo de 3.84\n",
            "O maior valor entre -1081.32 e 1522.54 é: 1522.54 com fluxo de 3.81\n",
            "O maior valor entre -1081.32 e 1520.80 é: 1520.80 com fluxo de 3.80\n",
            "O maior valor entre -1081.32 e 1531.22 é: 1531.22 com fluxo de 3.83\n",
            "O maior valor entre -1081.32 e 1552.19 é: 1552.19 com fluxo de 3.88\n",
            "O maior valor entre -1081.32 e 1580.51 é: 1580.51 com fluxo de 3.95\n",
            "O maior valor entre -1081.32 e 1611.82 é: 1611.82 com fluxo de 4.03\n",
            "O maior valor entre -1081.32 e 1641.31 é: 1641.31 com fluxo de 4.10\n",
            "O maior valor entre -1081.32 e 1664.46 é: 1664.46 com fluxo de 4.16\n",
            "O maior valor entre -1081.32 e 1677.72 é: 1677.72 com fluxo de 4.19\n",
            "O maior valor entre -1081.32 e 1679.04 é: 1679.04 com fluxo de 4.20\n",
            "O maior valor entre -1081.32 e 1668.23 é: 1668.23 com fluxo de 4.17\n",
            "O maior valor entre -1081.32 e 1646.94 é: 1646.94 com fluxo de 4.12\n",
            "O maior valor entre -1081.32 e 1618.44 é: 1618.44 com fluxo de 4.05\n",
            "O maior valor entre -1081.32 e 1587.12 é: 1587.12 com fluxo de 3.97\n",
            "O maior valor entre -1081.32 e 1557.77 é: 1557.77 com fluxo de 3.89\n",
            "O maior valor entre -1081.32 e 1534.90 é: 1534.90 com fluxo de 3.84\n",
            "O maior valor entre -1081.32 e 1522.03 é: 1522.03 com fluxo de 3.81\n"
          ]
        }
      ],
      "source": [
        "print(\"\\nINFORMAÇÕES\\n\")\n",
        "pressaoreal = []\n",
        "fluxoreal = []\n",
        "Xfluxo = []\n",
        "Xfluxominimo = []\n",
        "tempodeamostragem =[]\n",
        "valoresdexpot = []\n",
        "valoresdexp2p = []\n",
        "valoresdexfluxodevelocidadedabomba = []\n",
        "valoresdexvelocidade = []\n",
        "\n",
        "for i in range(100):\n",
        "    tempodeamostragem.insert(i, (i * 0.0628))\n",
        "    pressaoreal.insert(i,(pressaosimuladaIC[i] - pressaosimulada[i]))\n",
        "    fluxoreal.insert(i,(fluxosimulado[i] - fluxosimuladoIC[i] + xfluxodevelocidadedabomba))\n",
        "    rotacaoreal = (4000 * fluxoreal[i]) / 10\n",
        "    rotacaoreal = rotacaoreal - estadoderesistencia\n",
        "    correntereal = (2 * rotacaoreal) / 4000\n",
        "    Potreal = correntereal * 24\n",
        "\n",
        "    if fluxoreal[i] > fluxoreal[i - 1]:\n",
        "        picomaximoflu = fluxoreal[i]\n",
        "    else:\n",
        "        picominimoflu = fluxoreal[i]\n",
        "\n",
        "    if i % 31 == 0:\n",
        "        picomaximoflu = -1000\n",
        "        picominimoflu = 1000\n",
        "\n",
        "    if picomaximoflu > -100 and picominimoflu < 100:\n",
        "        P2Preal = picomaximoflu - picominimoflu\n",
        "\n",
        "    Xfluxo.insert(i,((fluxodesejado - fluxoreal[i]) * kp1))\n",
        "    Xpot = (Potmaxdesejada - Potreal) * kp2\n",
        "    valoresdexpot.append(Xpot)\n",
        "    XP2P = (P2Preal - P2Pdesejado) * kp3\n",
        "    valoresdexp2p.append(XP2P)\n",
        "\n",
        "    print(\"Em {:.4f} seg: Xfluxo(t) = {:.2f}, Xpot(t) = {:.2f}, XP2P(t) = {:.2f}\".format(tempodeamostragem[i], Xfluxo[i], Xpot, XP2P))\n",
        "\n",
        "for i in range(100):\n",
        "\n",
        "    if Xfluxo[i] < Xpot and Xfluxo[i] < XP2P:\n",
        "        Xseccao1 = Xfluxo[i]\n",
        "    elif Xpot < Xfluxo[i] and Xpot < XP2P:\n",
        "        Xseccao1 = Xpot\n",
        "    else:\n",
        "        Xseccao1 = XP2P\n",
        "\n",
        "    Xfluxominimo.append((fluxoreal[i] - fluxocoracaoemrepouso) * kp4)\n",
        "\n",
        "    if Xfluxominimo[i] > Xseccao1:\n",
        "        Xvelocidade = Xfluxominimo[i]\n",
        "        valoresdexvelocidade.append(Xvelocidade)\n",
        "    else:\n",
        "        Xvelocidade = Xseccao1\n",
        "        valoresdexvelocidade.append(Xvelocidade)\n",
        "\n",
        "    Xfluxodevelocidadedabomba = (Xvelocidade * 10) / 4000\n",
        "    valoresdexfluxodevelocidadedabomba.append(Xfluxodevelocidadedabomba)\n",
        "    print(\"O maior valor entre {:.2f} e {:.2f} é: {:.2f} com fluxo de {:.2f}\".format(Xseccao1, Xfluxominimo[i], Xvelocidade, Xfluxodevelocidadedabomba))"
      ]
    },
    {
      "cell_type": "code",
      "source": [
        "import matplotlib.pyplot as plt\n",
        "plt.plot(tempodeamostragem, Xfluxo, label='Xfluxo')\n",
        "plt.plot(tempodeamostragem, Xfluxominimo, label='Xfluxomímino')\n",
        "plt.plot(tempodeamostragem, valoresdexpot, label='XPot')\n",
        "plt.plot(tempodeamostragem, valoresdexp2p, label='XP2P')\n",
        "plt.plot(tempodeamostragem, valoresdexfluxodevelocidadedabomba, label='Xfluxodevelocidadedabomba')\n",
        "plt.plot(tempodeamostragem, valoresdexvelocidade, label='Xvelocidade')\n",
        "plt.title('Monitoramento do controlador fisiológico de Vollkron et al. (2005),\\n para FC de {:.2f} rpm, Potência de {:.2f} W e Fluxo P2P de {:.2f} l/min'.format(freqcardrepouso, Potmaxdesejada, P2Pdesejado))\n",
        "plt.legend()\n",
        "plt.show()"
      ],
      "metadata": {
        "colab": {
          "base_uri": "https://localhost:8080/",
          "height": 474
        },
        "id": "TR2YLwilEnDo",
        "outputId": "b2861985-98e2-432f-ddd0-a3e32800b757"
      },
      "execution_count": null,
      "outputs": [
        {
          "output_type": "display_data",
          "data": {
            "text/plain": [
              "<Figure size 640x480 with 1 Axes>"
            ],
            "image/png": "[encoded data removed]"
          },
          "metadata": {}
        }
      ]
    }
  ],
  "metadata": {
    "colab": {
      "provenance": [],
      "toc_visible": true,
      "include_colab_link": true
    },
    "kernelspec": {
      "display_name": "Python 3",
      "name": "python3"
    }
  },
  "nbformat": 4,
  "nbformat_minor": 0
}